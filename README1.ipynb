{
 "cells": [
  {
   "cell_type": "markdown",
   "id": "6c82ab3b",
   "metadata": {},
   "source": [
    "# README file for the 2022 Programming and Scripting Module pands-problem-sheet\n",
    "\n",
    "## Author: Jarlath Scarry\n",
    "\n",
    "## Lecturer: Andrew Beatty\n",
    "\n",
    "\n"
   ]
  },
  {
   "cell_type": "markdown",
   "id": "22c2a228",
   "metadata": {},
   "source": [
    "This file is a *README* assosciated with the pands-problem-sheet submission for the 2022 Programming and Scripting Module and contains code, references, and comments for weekly tasks. \n",
    "Additional comments and references are contained within the .py files.\n",
    "\n",
    "Files containing code and other material relating to the the weekly tasks can be found within this pands-problem-sheet repository."
   ]
  },
  {
   "cell_type": "markdown",
   "id": "df020911",
   "metadata": {},
   "source": [
    "# Week 1: No submission"
   ]
  },
  {
   "cell_type": "markdown",
   "id": "f90fc921",
   "metadata": {},
   "source": [
    "# Week 2: Statements\n",
    "\n",
    "Q: Write a program that calculates somebody's Body Mass Index (BMI). Call the file bmi.py The inputs are the person's height in centimetres and weight in kilograms. The output is their weight divided by their height in metres squared.\n",
    "\n",
    "Code: bmi.py added\n",
    "\n",
    "References:\n",
    "\n",
    "https://www.w3resource.com/python-exercises/python-basic-exercise-66.php\n",
    "https://dev.to/mindninjax/how-to-build-a-bmi-calculator-in-python-4g2g\n",
    "\n",
    "Program summary:\n",
    "- Read in input as a string and make it equal to variable name.\n",
    "- Print a message explaining next steps.\n",
    "- Read in inputs as a floats for weight and height.\n",
    "- Print confirmation message of details inputted.\n",
    "- Carryout calculation on the variables weight and height and the answer equal to the variable bmi.\n",
    "- Print out message with the name and calculated bmi\n"
   ]
  },
  {
   "cell_type": "code",
   "execution_count": null,
   "id": "fb199a1c",
   "metadata": {},
   "outputs": [],
   "source": [
    "#Weekly task 2\n",
    "#Body mass index calculator\n",
    "#Author: Jarlath Scarry\n",
    "\n",
    "name = input ('Enter your name:')\n",
    "print ('Hello {}\\n Please answer the following questions and we\\\n",
    "    \\n will calculate your Body Mass Index (BMI)\\n'.format(name)) # \\n to move onto next line\n",
    "\n",
    "\n",
    "weight = float(input ('What is your weight(KG)?:'))\n",
    "height = float(input ('What is your height(CM)?:'))\n",
    "# used float instead of int incase not whole numbers entered,eg weitht 82.5kg\n",
    "\n",
    "print ('Your weight is {}KG and height is {}CM.\\n'.format(weight, height))\n",
    "\n",
    "bmi = weight / (height/100)**2 #calculation carried out on variables\n",
    "print ('{} your BMI is {:.2f}' .format(name,bmi))\n",
    "#print out bmi to 2 decimal places\n"
   ]
  },
  {
   "cell_type": "markdown",
   "id": "60046e32",
   "metadata": {},
   "source": [
    "# Week 3: Variables\n",
    "\n",
    "Q: Write a program that takes asks a user to input a string and outputs every second letter in reverse order.\n",
    "\n",
    "Code: secondString.py added\n",
    "\n",
    "References: \n",
    "\n",
    "https://www.w3schools.com/python/python_howto_reverse_string.asp\n",
    "\n",
    "Program summary:\n",
    "- Print a message asking user to input a sentence. \n",
    "- Make it equal to the variable yourSentence.\n",
    "- Reverses string and takes every second charachter, starting with the first and ignoring blank spaces\n",
    "- Print the reversed sentence"
   ]
  },
  {
   "cell_type": "code",
   "execution_count": null,
   "id": "cbef40d5",
   "metadata": {},
   "outputs": [],
   "source": [
    "#Weekly task 3\n",
    "#Program that takes an sentence and will output every second letter in reverse order.\n",
    "#Author: Jarlath\n",
    "\n",
    "print ( 'Please enter the following sentence \"The quick brown fox jumps over the lazy dog.\"')\n",
    "yourSentence = str(input(\"Please enter the sentence:\\n\")) #Program to prompt the user for the sentence\n",
    "\n",
    "yourSentenceReversed = (yourSentence[::-2]) #reverse and skip every second carachter\n",
    "\n",
    "print (yourSentenceReversed)"
   ]
  },
  {
   "cell_type": "markdown",
   "id": "261cc70b",
   "metadata": {},
   "source": [
    "# Week 4: Controlling the flow\n",
    "\n",
    "Q: Write a program that asks the user to input any positive integer and outputs the successive values of the following calculation.\n",
    "\n",
    "At each step calculate the next value by taking the current value and, if it is even, divide it by two, but if it is odd, multiply it by three and add one.\n",
    "\n",
    "Have the program end if the current value is one.\n",
    "\n",
    "Code: collatz.py added\n",
    "\n",
    "References:\n",
    "\n",
    "https://www.webucator.com/article/collatz-conjecture-in-python/\n",
    "https://www.w3schools.com/python/python_functions.asp\n",
    "https://realpython.com/lessons/intro-while-loops-python/ \n",
    "\n",
    "Program summary:\n",
    "- Set a list = numList\n",
    "- Define a function to perform calculations (newtons method - collatz)\n",
    "    - Function is setup to append number to the list after each calculation, this means results will be printed on 1 line\n",
    "- Define main function which asks for an input and runs the collatz function calculations on it\n",
    "- Call the main function to run\n",
    "- Print the list\n"
   ]
  },
  {
   "cell_type": "code",
   "execution_count": null,
   "id": "078c16e2",
   "metadata": {},
   "outputs": [],
   "source": [
    "#Weekly task 4\n",
    "#Author: Jarlath Scarry\n",
    "\n",
    "#I worked with code from the following link\n",
    "#https://www.webucator.com/article/collatz-conjecture-in-python/\n",
    "\n",
    "numList = [] #make a list called numList\n",
    "\n",
    "def collatz(num):  #defining collatz function (user defined function) https://www.w3schools.com/python/python_functions.asp\n",
    "    \n",
    "    while(num) > 1: #while loop (https://realpython.com/lessons/intro-while-loops-python/) \n",
    "                        #keep repeating if or else steps below while the answer is greater than 1\n",
    "        numList.append(num) #append number to the numList \n",
    "\n",
    "        if(num) % 2 == 0: #if number is even,\n",
    "            num = int(num / 2) #devide number by 2\n",
    "        \n",
    "        else: #otherwise (if number is odd), \n",
    "            num = int((3 * num) + 1) #multiply number by 3 and add 1\n",
    "\n",
    "    else: #otherwise (if number is now equal to 1)..\n",
    "        numList.append(num) #append number to the numList (this will put 1 at the end of the list as the last number)\n",
    "#collatz function is now defined\n",
    " \n",
    "def main(): #define the main function. This is the first piece of code to be run\n",
    "    num = int(input('Input an integer: ')) #request user to input an integer and read it in as class integer\n",
    "    collatz(num) #run the collatz function on the number that was input\n",
    "#main function is now defined\n",
    "\n",
    "main() #call the main function\n",
    "print(*numList, sep=\" \") # print the list. * unpacks the list and sep=\" \" seperates items with a blank space.\n",
    "#print('Done!')"
   ]
  },
  {
   "cell_type": "markdown",
   "id": "c24e8870",
   "metadata": {},
   "source": [
    "# Week 5: Data\n",
    "\n",
    "Q: Write a program that outputs whether or not today is a weekday.\n",
    "    \n",
    "Code: weekday.py added\n",
    "\n",
    "References:\n",
    "https://www.programiz.com/python-programming/datetime\n",
    "https://stackoverflow.com/questions/29384696/how-to-find-current-day-is-weekday-or-weekends-in-python\n",
    "\n",
    "Program summary:\n",
    "- Import datetime function\n",
    "- Create a variable for todays day by calling datetime function (with day number included)\n",
    "- Using if/else statement choose (based on day number of today) what message to print out."
   ]
  },
  {
   "cell_type": "code",
   "execution_count": null,
   "id": "988db3c0",
   "metadata": {},
   "outputs": [],
   "source": [
    "#Weekly Task 5\n",
    "#Write a program that outputs whether or not today is a weekday.\n",
    "#Author: Jarlath Scarry\n",
    "\n",
    "\n",
    "import datetime as dt #import datetime as dt #https://www.programiz.com/python-programming/datetime\n",
    "\n",
    "dayNumber = dt.date.today().weekday() #using today method of the date class of datetime module,\n",
    "                                        #Then adding the weekday() gives the week dayNumber 0-6\n",
    "                                        #https://stackoverflow.com/questions/29384696/how-to-find-current-day-is-weekday-or-weekends-in-python\n",
    "\n",
    "if dayNumber < 5: #if the day number is less than 5 it is a week day (0 Mon,1 Tue, 2 Wed, 3 Thu, 4 Fri)\n",
    "    print (\"Yes, unfortunately today is a weekday\") #print this out if above is true\n",
    "    \n",
    "else:  # if it is day 5 or 6 it is the weekend (5 Sat, 6 Sun)\n",
    "    print (\"It is the weekend, yay!\") #if the first condition is false (not a week day) then print this out"
   ]
  },
  {
   "cell_type": "markdown",
   "id": "7c5649c7",
   "metadata": {},
   "source": [
    "# Week 6: Functions\n",
    "Q: Write a program that takes a positive floating-point number as input and outputs an approximation of its square root.\n",
    "\n",
    "Code: sqrt.py added\n",
    "\n",
    "References:\n",
    "\n",
    "Square Root of a Number using Newton's Method --Python -- The Last Minute Professor https://www.youtube.com/watch?v=xdlIFw5EM4w\n",
    "\n",
    "Program summary:\n",
    "- Set a tolerance for calculations\n",
    "- Define a function to estimate a square root then run a while loop to repeat the calculations.\n",
    "    -Break the loop if tolerance is reached.\n",
    "- Request an input and assign it a variable.\n",
    "- Call the function and run calculation on the input.\n",
    "- Print the answer."
   ]
  },
  {
   "cell_type": "code",
   "execution_count": null,
   "id": "df800fe0",
   "metadata": {},
   "outputs": [],
   "source": [
    "#Weekly task 6\n",
    "#Algorithn to estimate square root using Newton's method.\n",
    "#Author: Jarlath Scarry\n",
    "\n",
    "# Square Root of a Number using Newton's Method - Python - The Last Minute Professor https://www.youtube.com/watch?v=xdlIFw5EM4w\n",
    "\n",
    "Tolerance = .000001 # define a tolerance\n",
    "\n",
    "def sqrt(number): #define the function sqrt\n",
    "    approx = 0.5*number #guess square root is 1/2 the number\n",
    "    better = 0.5*(approx+number/approx) #run formula to get better guess\n",
    "    while (better!=approx): #while loop to repeat guess until approx and better guess are equal\n",
    "        approx = better #make approx equal to better  \n",
    "        better=0.5*(approx+num/approx) #run formula to get better guess\n",
    "        if better < Tolerance: #if tolerance is exceeded then break\n",
    "            break   \n",
    "    return better # return the result. (This could be approx, or better since the loop runs until both are equal)\n",
    "#sqrt function is defined\n",
    "\n",
    "num = float(input(\"Enter a number:\")) #read number in as a float\n",
    "answer = sqrt(num) #run the function\n",
    "print(\"Squareroot of\",num,\"is:\",answer) #print the answer\n"
   ]
  },
  {
   "cell_type": "markdown",
   "id": "7c070c7d",
   "metadata": {},
   "source": [
    "# Week 7: Files\n",
    "Q: Program that reads in a text file and outputs the number of e's it contains.\n",
    "\n",
    "Code: es.py added. \n",
    "\n",
    "File: alan.txt added.\n",
    "\n",
    "References:\n",
    "\n",
    "https://stackoverflow.com/questions/34442282/how-do-i-add-txt-on-the-end-of-a-users-input\n",
    "https://www.geeksforgeeks.org/count-the-number-of-times-a-letter-appears-in-a-text-file-in-python/\n",
    "\n",
    "Program summary:\n",
    "Assuming the file is in the same directory and is a text file, we just need to run the program.\n",
    "- Read in the file \"alam.txt\"\n",
    "- Define a function to count the number of letters in the file\n",
    "- Call the function, first to count small e, then again to count big E, and assign both a variable name.\n",
    "- Add the total of both \n",
    "- Print the answers\n"
   ]
  },
  {
   "cell_type": "code",
   "execution_count": null,
   "id": "397e68f6",
   "metadata": {},
   "outputs": [],
   "source": [
    "#Weekly task 7\n",
    "#Program that reads in a text file and outputs the number of e's it contains\n",
    "#Author: Jaralth Scarry\n",
    "\n",
    "fileName =  \"alan.txt\" #Reading Parameters From a File - Python https://www.youtube.com/watch?v=fXrGfOS6lHk\n",
    "\n",
    "def letterFrequency(fileName, letter): #define function to return the letter count\n",
    "                                        #https://www.geeksforgeeks.org/count-the-number-of-times-a-letter-appears-in-a-text-file-in-python/\n",
    "    file = open(fileName, 'r') # open file in read mode\n",
    "    text = file.read() # store content of the file in a variable\n",
    "    return text.count(letter) # using count() function\n",
    " \n",
    "numberOfe = letterFrequency(fileName,'e') # call the function to get the letter count for e and E\n",
    "numberOfE = letterFrequency(fileName,'E') # and pass the counts into a variables to use later\n",
    "eAndE = (numberOfe+numberOfE)\n",
    "\n",
    "print('The letter \"e\" appears {} times in the file'.format(numberOfe))\n",
    "print('The letter \"E\" appears {} times in the file'.format(numberOfE))\n",
    "print('The total of all \"E\" upper and \"e\" lower case is: {}'.format(eAndE))\n"
   ]
  },
  {
   "cell_type": "markdown",
   "id": "5d4291ec",
   "metadata": {},
   "source": [
    "## End"
   ]
  }
 ],
 "metadata": {
  "kernelspec": {
   "display_name": "Python 3 (ipykernel)",
   "language": "python",
   "name": "python3"
  },
  "language_info": {
   "codemirror_mode": {
    "name": "ipython",
    "version": 3
   },
   "file_extension": ".py",
   "mimetype": "text/x-python",
   "name": "python",
   "nbconvert_exporter": "python",
   "pygments_lexer": "ipython3",
   "version": "3.9.7"
  }
 },
 "nbformat": 4,
 "nbformat_minor": 5
}
